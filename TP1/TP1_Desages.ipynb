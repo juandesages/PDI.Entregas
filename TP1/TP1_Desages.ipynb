{
  "nbformat": 4,
  "nbformat_minor": 0,
  "metadata": {
    "colab": {
      "name": "TP1.Desages.ipynb",
      "provenance": [],
      "authorship_tag": "ABX9TyPEEavOsazUmSwTnvoy93nf",
      "include_colab_link": true
    },
    "kernelspec": {
      "name": "python3",
      "display_name": "Python 3"
    },
    "language_info": {
      "name": "python"
    }
  },
  "cells": [
    {
      "cell_type": "markdown",
      "metadata": {
        "id": "view-in-github",
        "colab_type": "text"
      },
      "source": [
        "<a href=\"https://colab.research.google.com/github/juandesages/PDI.Entregas/blob/main/TP1/TP1_Desages.ipynb\" target=\"_parent\"><img src=\"https://colab.research.google.com/assets/colab-badge.svg\" alt=\"Open In Colab\"/></a>"
      ]
    },
    {
      "cell_type": "code",
      "metadata": {
        "id": "d1h0yd36NSIS"
      },
      "source": [
        "import numpy as np\n",
        "import imageio\n",
        "import matplotlib.pyplot as plt\n"
      ],
      "execution_count": 1,
      "outputs": []
    },
    {
      "cell_type": "code",
      "metadata": {
        "id": "Aqo0zUMvi2G-"
      },
      "source": [
        "#Cargar imagen\n",
        "def load_image(filename):\n",
        "    im_in=np.clip(imageio.imread(filename),0,255).astype(np.float)/255. \n",
        "    #imagen normalizada\n",
        "    im=np.zeros((*im_in.shape[:2],3))\n",
        "    image_type = 'RGB'\n",
        "    if len(im_in.shape)==2: # la imagen es de tipo grayscale\n",
        "        for i in range (3):\n",
        "            im[:,:,i]=im_in\n",
        "            image_type = 'grayscale'\n",
        "    elif (im_in.shape[2]==4):\n",
        "        im=im_in[:,:,:3]\n",
        "        image_type = 'RGBA'\n",
        "    elif im_in.shape==im.shape:\n",
        "        im=im_in\n",
        "    return im, image_type\n",
        "\n",
        "#obtener información de la imagen\n",
        "def get_data(im, im_type):\n",
        "  if im_type == 'grayscale':\n",
        "    h,w, ch = im.shape\n",
        "    ch = 1\n",
        "  else:\n",
        "    h,w, ch = im.shape\n",
        "  return h,w,ch #height, wide, channels\n",
        "\n",
        "#guardar imagen\n",
        "def save_image(im, title):\n",
        "  im = im*255\n",
        "  imageio.imwrite(title,im.astype(np.uint8))\n",
        "  return \n",
        "\n",
        "#graficar imagen (mostrar imagen)\n",
        "def show_image(im):\n",
        "  plt.imshow(im)\n",
        "  return \n",
        "# Para las siguientes funciones considero que la imagen es RGB, en los casos de escala de grises se \"pasaron\" a RGB en la funcion cargar imagen\n",
        "#obtener dato de un pixel\n",
        "def pixel_data(im, y, x):\n",
        "  [R,G,B] = im[y,x,:]*255\n",
        "  return [R,G,B]\n",
        "\n",
        "#modificar dato de un pixel\n",
        "def pixel_set(im, y, x, R,G,B):\n",
        "  im[y,x,0] = R\n",
        "  im[y,x,1] = G\n",
        "  im[y,x,2] = B\n",
        "  return\n",
        "\n",
        "image_list = [ 'null', 'imageio:astronaut.png',  'imageio:camera.png','imageio:checkerboard.png',  'imageio:chelsea.png',  'imageio:coffee.png', 'imageio:wikkie.png']"
      ],
      "execution_count": 73,
      "outputs": []
    },
    {
      "cell_type": "code",
      "metadata": {
        "colab": {
          "base_uri": "https://localhost:8080/",
          "height": 371
        },
        "id": "bwubLAGRjMa0",
        "outputId": "1a917e39-79ec-403f-c229-3c4751097e7a"
      },
      "source": [
        "index = 4 #@param {type:\"slider\", min:1, max:6, step:1}\n",
        "im,im_type = load_image(image_list[index])\n",
        "show_image(im)\n",
        "h,w,ch = get_data(im, im_type)\n",
        "print('la imagen es de tipo', im_type,' tiene un tamaño de ',h,'x',w,'píxeles y ',ch,'canales')\n",
        "\n",
        "\n"
      ],
      "execution_count": 74,
      "outputs": [
        {
          "output_type": "stream",
          "name": "stdout",
          "text": [
            "Imageio: 'checkerboard.png' was not found on your computer; downloading it now.\n",
            "Try 1. Download from https://github.com/imageio/imageio-binaries/raw/master/images/checkerboard.png (443 bytes)\n",
            "Downloading: 443/443 bytes (100.0%)\b\b\b\b\b\b\b\b\b\b\b\b\b\b\b\b\b\b\b\b\b\b443/443 bytes (100.0%)\n",
            "  Done\n",
            "File saved as /root/.imageio/images/checkerboard.png.\n",
            "la imagen es de tipo grayscale  tiene un tamaño de  200 x 200 píxeles y  1 canales\n"
          ]
        },
        {
          "output_type": "display_data",
          "data": {
            "image/png": "[encoded data removed]",
            "text/plain": [
              "<Figure size 432x288 with 1 Axes>"
            ]
          },
          "metadata": {
            "needs_background": "light"
          }
        }
      ]
    },
    {
      "cell_type": "code",
      "metadata": {
        "colab": {
          "base_uri": "https://localhost:8080/"
        },
        "id": "ajNZLIuD7Ccv",
        "outputId": "64002aa7-8f2b-4fc1-acc9-b1c887f6904e"
      },
      "source": [
        "scroll_h = 51 #@param {type:\"slider\", min:0, max:300, step:1}\n",
        "scroll_w = 0 #@param {type:\"slider\", min:0, max: 451, step:1}\n",
        "px = pixel_data(im, scroll_h,scroll_w)\n",
        "\n",
        "print('Los valores RGB del píxel y=', scroll_h,'x=', scroll_w, 'son', px)\n",
        "\n",
        "\n",
        "\n"
      ],
      "execution_count": 85,
      "outputs": [
        {
          "output_type": "stream",
          "name": "stdout",
          "text": [
            "Los valores RGB del píxel y= 51 x= 0 son [255.0, 255.0, 255.0]\n"
          ]
        }
      ]
    },
    {
      "cell_type": "code",
      "metadata": {
        "colab": {
          "base_uri": "https://localhost:8080/",
          "height": 269
        },
        "id": "vcUaTRqY8lEL",
        "outputId": "bd31b37e-7656-4b7f-9760-901d89a9d508"
      },
      "source": [
        "\n",
        "im2 = im\n",
        "scroll_h = 51 #@param {type:\"slider\", min:0, max:300, step:1}\n",
        "scroll_w = 28 #@param {type:\"slider\", min:0, max: 451, step:1}\n",
        "scroll_R = 1 #@param {type:\"slider\", min:0, max:1, step:0.5}\n",
        "scroll_G = 0 #@param {type:\"slider\", min:0, max:1, step:0.5}\n",
        "scroll_B = 0 #@param {type:\"slider\", min:0, max:1, step:0.5}\n",
        "\n",
        "im2[y,x,:]=pixel_set(im2, scroll_h, scroll_w, scroll_R,scroll_G,scroll_B)\n",
        "\n",
        "show_image(im2) "
      ],
      "execution_count": 84,
      "outputs": [
        {
          "output_type": "display_data",
          "data": {
            "image/png": "[encoded data removed]",
            "text/plain": [
              "<Figure size 432x288 with 1 Axes>"
            ]
          },
          "metadata": {
            "needs_background": "light"
          }
        }
      ]
    },
    {
      "cell_type": "code",
      "metadata": {
        "id": "ZJ9Oax_E4bMb"
      },
      "source": [
        "save_image(im, 'checkerboard.modificada.png')"
      ],
      "execution_count": 86,
      "outputs": []
    }
  ]
}